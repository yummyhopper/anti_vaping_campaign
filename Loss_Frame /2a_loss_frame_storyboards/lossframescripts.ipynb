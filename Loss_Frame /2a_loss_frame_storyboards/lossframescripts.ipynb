{
 "cells": [
  {
   "cell_type": "markdown",
   "id": "ea726239973d567c",
   "metadata": {
    "collapsed": false,
    "jupyter": {
     "outputs_hidden": false
    }
   },
   "source": [
    "## Loss Prompt\n",
    "First prompt: You are an expert in health communications. You are spearheading a campaign to generate Instagram and Tiktok for 18-25 year old penn students using the elaboration likelihood model and loss framing. Generate 5 different video scripts targeting different aspects of the issues incorporating ELM and a loss frame."
   ]
  },
  {
   "cell_type": "markdown",
   "id": "97e62f4bd1f29062",
   "metadata": {
    "collapsed": false,
    "jupyter": {
     "outputs_hidden": false
    }
   },
   "source": [
    "## Video Script 1: \"Quaker Quandaries: The Hidden Costs\"\n",
    "\n",
    "Scene: Quick cuts between a student's PennCard being declined at a campus event due to insufficient funds from vaping expenses and another student enjoying Penn's vibrant cultural and academic offerings, funded by smart financial choices.\n",
    "\n",
    "Voiceover: \"Consider the true cost of vaping. Every penny spent on this fleeting habit is a lost opportunity to enrich your Penn experience. Is it worth missing out on the best of what Penn has to offer?\"\n",
    "\n",
    "Text on screen: \"Spend Wisely, Experience More. #PennCosts\""
   ]
  },
  {
   "cell_type": "markdown",
   "id": "d9b1f68cb43b0f6c",
   "metadata": {
    "collapsed": false,
    "jupyter": {
     "outputs_hidden": false
    }
   },
   "source": [
    "## Video Script 2: \"Fog Over Franklin's Fields\"\n",
    "\n",
    "Scene: A visual metaphor of fog clouding the iconic Benjamin Franklin statue, parallel to a student's clouded academic focus due to vaping, contrasted with clear, sunny scenes of successful Penn students.\n",
    "\n",
    "Voiceover: \"Don't let vaping fog your academic journey at Penn. Benjamin Franklin's legacy was built on clarity of thought and purpose. Embrace his wisdom, not the haze of vaping.\"\n",
    "\n",
    "Text on screen: \"Clear Mind, Franklin's Way. #PennClarity\"\n"
   ]
  },
  {
   "cell_type": "markdown",
   "id": "a2af147a75284481",
   "metadata": {
    "collapsed": false,
    "jupyter": {
     "outputs_hidden": false
    }
   },
   "source": [
    "## Video Script 3: \"Disconnected on Locust Walk\"\n",
    "\n",
    "Scene: A student vaping alone on Locust Walk, watching as vibrant, connected groups of Penn students pass by, engaged in lively discussions and laughter.\n",
    "\n",
    "Voiceover: \"Locust Walk is where Penn's heart beats, where connections are made. Don't isolate yourself in a vape cloud. Your place is within the vibrant tapestry of Penn's community.\"\n",
    "\n",
    "Text on screen: \"Join In, Walk Together. #LocustWalkLife\"\n"
   ]
  },
  {
   "cell_type": "markdown",
   "id": "976ca86c225bf29b",
   "metadata": {
    "collapsed": false,
    "jupyter": {
     "outputs_hidden": false
    }
   },
   "source": [
    "## Video Script 4: \"The Palestra's Promise Dimmed\"\n",
    "\n",
    "Scene: The stark contrast between the energy and teamwork in Penn's historic Palestra during a no-vape game and the solitude of vaping outside, missing the game and camaraderie.\n",
    "\n",
    "Voiceover: \"The Palestra stands as a testament to Penn's athletic spirit and unity. Vaping sidelines you, not just in sports, but in the game of life. Stay in the game, vape-free.\"\n",
    "\n",
    "Text on screen: \"Team Spirit Over Vaping. #PalestraPride\""
   ]
  },
  {
   "cell_type": "markdown",
   "id": "c5ff733526ba7378",
   "metadata": {
    "collapsed": false,
    "jupyter": {
     "outputs_hidden": false
    }
   },
   "source": [
    "## Video Script 5: \"Van Pelt's Vanishing Voices\"\n",
    "\n",
    "Scene: A student vaping and struggling with concentration in Van Pelt Library, juxtaposed with focused students contributing to vibrant academic discussions and groundbreaking research.\n",
    "\n",
    "Voiceover: \"Van Pelt Library is a haven of knowledge and innovation. Don't let the distraction of vaping silence your contribution to Penn's legacy of intellectual leadership.\"\n",
    "\n",
    "Text on screen: \"Contribute, Don't Cloud. #VanPeltVoices\"\n",
    "These revised scripts use loss framing to underscore the specific opportunities and experiences at the University of Pennsylvania that students might miss out on due to vaping. By connecting the consequences of vaping to iconic Penn locations, traditions, and values, the message becomes more poignant and relatable for Penn students.\n"
   ]
  }
 ],
 "metadata": {
  "citation-manager": {
   "items": {}
  },
  "kernelspec": {
   "display_name": "Python 3.8",
   "language": "python",
   "name": "python3"
  },
  "language_info": {
   "codemirror_mode": {
    "name": "ipython",
    "version": 3
   },
   "file_extension": ".py",
   "mimetype": "text/x-python",
   "name": "python",
   "nbconvert_exporter": "python",
   "pygments_lexer": "ipython3",
   "version": "3.8.8"
  }
 },
 "nbformat": 4,
 "nbformat_minor": 5
}
