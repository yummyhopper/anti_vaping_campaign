{
 "cells": [
  {
   "cell_type": "markdown",
   "id": "8abe75aeeeb80b97",
   "metadata": {
    "collapsed": false,
    "jupyter": {
     "outputs_hidden": false
    }
   },
   "source": [
    "## Video Script 1: \"Quaker Quandaries: The Hidden Costs\"\n",
    "\n",
    "Message Clarity and Directness (19/20): The message is highly clear and direct, effectively linking vaping expenses to missed opportunities at Penn, making it highly relatable for the student audience.\n",
    "\n",
    "Audience Engagement and Relevance (18/20): This script targets the Penn student body effectively by focusing on the tangible impact of vaping on their campus experience, though its impact might be slightly less for students less concerned about financial management.\n",
    "\n",
    "Emotional Appeal and Persuasiveness (16/20): The emotional impact is present, emphasizing the fear of missing out on enriching experiences due to financial choices, but might not resonate as strongly with students who don't prioritize these experiences.\n",
    "\n",
    "Credibility and Use of Evidence (15/20): The scenario is realistic, making the credibility of the message high; however, it could be strengthened with data or testimonials about the financial burden of vaping.\n",
    "\n",
    "Call to Action and Practicality (9/10): The call to action to spend wisely is clear, but the script could benefit from more specific suggestions on financial management or alternatives to vaping.\n",
    "\n",
    "Creativity and Innovation (8/10): The contrast between a declined PennCard and enjoying campus life is a creative approach, though the concept of financial responsibility is not new."
   ]
  },
  {
   "cell_type": "markdown",
   "id": "3ec36d8cad304018",
   "metadata": {
    "collapsed": false,
    "jupyter": {
     "outputs_hidden": false
    }
   },
   "source": [
    "## Video Script 2: \"Fog Over Franklin's Fields\"\n",
    "\n",
    "Message Clarity and Directness (20/20): The message is exceptionally clear and direct, drawing a strong analogy between fog (vaping) and the clouding of academic focus, which is a potent metaphor for the target audience.\n",
    "\n",
    "Audience Engagement and Relevance (20/20): Highly relevant and engaging, especially for students dedicated to their academic pursuits, invoking the legacy of Benjamin Franklin.\n",
    "\n",
    "Emotional Appeal and Persuasiveness (18/20): The script is emotionally appealing by linking vaping to the loss of academic potential and clarity, a significant concern for many students.\n",
    "Credibility and Use of Evidence (17/20): The metaphorical use of fog and Franklin's legacy lends credibility, but like the previous script, it could benefit from more direct evidence or expert opinions on vaping's impact on cognitive functions.\n",
    "\n",
    "Call to Action and Practicality (9/10): Encourages embracing wisdom and clarity, implicitly suggesting quitting vaping, though a more explicit call to action could strengthen the message.\n",
    "\n",
    "Creativity and Innovation (9/10): The visual metaphor of fog and clarity is highly creative and relevant to Penn's academic setting, making a compelling narrative."
   ]
  },
  {
   "cell_type": "markdown",
   "id": "67a9332a9fd86945",
   "metadata": {
    "collapsed": false,
    "jupyter": {
     "outputs_hidden": false
    }
   },
   "source": [
    "## Video Script 3: \"Disconnected on Locust Walk\"\n",
    "\n",
    "Message Clarity and Directness (18/20): The message clearly communicates the social isolation caused by vaping, but could clarify how vaping specifically leads to this isolation.\n",
    "\n",
    "Audience Engagement and Relevance (19/20): Very relevant, as it touches on the importance of social connections, a key aspect of college life for many students.\n",
    "\n",
    "Emotional Appeal and Persuasiveness (17/20): The depiction of isolation versus vibrant social interaction is emotionally stirring, though its effectiveness might vary among different social groups.\n",
    "\n",
    "Credibility and Use of Evidence (15/20): The scenario is believable and relatable, though, like others, could be enhanced with studies or testimonials on how vaping affects social relationships.\n",
    "\n",
    "Call to Action and Practicality (8/10): Suggests joining the community spirit implicitly, but could be more impactful with a stronger, more direct call to action.\n",
    "\n",
    "Creativity and Innovation (8/10): The use of Locust Walk as a setting is creative, but the theme of social inclusion versus isolation is relatively common."
   ]
  },
  {
   "cell_type": "markdown",
   "id": "873082b9e8d9dfd2",
   "metadata": {
    "collapsed": false,
    "jupyter": {
     "outputs_hidden": false
    }
   },
   "source": [
    "## Video Script 3: \"Disconnected on Locust Walk\"\n",
    "\n",
    "Message Clarity and Directness (19/20): This script delivers a clear message about the impact of vaping on participation in athletic and communal events, directly relevant to the target audience.\n",
    "\n",
    "Audience Engagement and Relevance (20/20): Extremely engaging for students involved in athletics or who enjoy being part of the spectator culture, tapping into Penn's strong sense of community.\n",
    "\n",
    "Emotional Appeal and Persuasiveness (18/20): Strong emotional appeal in highlighting the camaraderie and excitement of being part of the game, which vaping could take away.\n",
    "\n",
    "Credibility and Use of Evidence (16/20): The narrative is credible, especially within the context of athletic performance and team spirit, but could be supported by more explicit links between vaping and physical health.\n",
    "\n",
    "Call to Action and Practicality (9/10): The call to stay in the game and be vape-free is clear and practical, resonating well with the target audience's values.\n",
    "\n",
    "Creativity and Innovation (9/10): The juxtaposition of athletic spirit with the solitary act of vaping outside the Palestra is innovative, effectively using a beloved Penn landmark to convey the message."
   ]
  },
  {
   "cell_type": "markdown",
   "id": "57131c80f8845a32",
   "metadata": {
    "collapsed": false,
    "jupyter": {
     "outputs_hidden": false
    }
   },
   "source": [
    "## Video Script 5: \"Van Pelt's Vanishing Voices\"\n",
    "\n",
    "Message Clarity and Directness (17/20): The script conveys the message that vaping can hinder academic engagement and concentration, though it could be clearer about the direct impact of vaping on these aspects.\n",
    "\n",
    "Audience Engagement and Relevance (18/20): Relevant to students who value academic achievement and participation in intellectual communities, highlighting the importance of focus and contribution.\n",
    "\n",
    "Emotional Appeal and Persuasiveness (17/20): The contrast between distracted isolation and active academic contribution has a strong emotional appeal, especially to those who prioritize intellectual pursuits.\n",
    "\n",
    "Credibility and Use of Evidence (14/20): While the setting and narrative are relatable, the script could benefit from clearer evidence or examples of how vaping directly impacts academic performance and engagement.\n",
    "\n",
    "Call to Action and Practicality (8/10): Encourages active participation and contribution in academic settings, but the call to action against vaping could be more explicit and direct.\n",
    "\n",
    "Creativity and Innovation (8/10): The use of Van Pelt Library as a symbol of intellectual endeavor is creative, but the theme of distraction versus contribution is a familiar narrative."
   ]
  },
  {
   "cell_type": "markdown",
   "id": "8d6c3aad5d436900",
   "metadata": {
    "collapsed": false,
    "jupyter": {
     "outputs_hidden": false
    }
   },
   "source": [
    "## Overall Assessment:\n",
    "\n",
    "These scripts effectively utilize loss framing to highlight the potential negative impacts of vaping on various aspects of university life, making the messages highly relevant and poignant for the Penn student body. Each script focuses on a different area of student life—financial management, academic achievement, social connections, athletic involvement, and intellectual contribution—creating a well-rounded campaign against vaping.\n",
    "\n",
    "The scripts are generally clear and direct, with strong emotional appeal and relevance to the target audience. However, there's room for improvement in areas such as the directness of the call to action and the use of evidence to back up the claims made. Enhancing these aspects could make the campaign even more impactful.\n",
    "\n",
    "The creative use of iconic Penn locations and experiences makes the message more relatable and memorable for students, effectively leveraging the loss aversion tendency to motivate behavior change. Incorporating more specific calls to action and bolstering the credibility with data or expert opinions could further enhance the effectiveness of these messages."
   ]
  }
 ],
 "metadata": {
  "citation-manager": {
   "items": {}
  },
  "kernelspec": {
   "display_name": "Python 3.8",
   "language": "python",
   "name": "python3"
  },
  "language_info": {
   "codemirror_mode": {
    "name": "ipython",
    "version": 3
   },
   "file_extension": ".py",
   "mimetype": "text/x-python",
   "name": "python",
   "nbconvert_exporter": "python",
   "pygments_lexer": "ipython3",
   "version": "3.8.8"
  }
 },
 "nbformat": 4,
 "nbformat_minor": 5
}
