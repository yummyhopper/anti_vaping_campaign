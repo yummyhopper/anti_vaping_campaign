{
 "cells": [
  {
   "cell_type": "code",
   "execution_count": 1,
   "id": "366214a5-36d6-454f-a8cd-250ceff94935",
   "metadata": {},
   "outputs": [],
   "source": [
    "from openai import OpenAI\n",
    "import os\n",
    "import requests"
   ]
  },
  {
   "cell_type": "code",
   "execution_count": 2,
   "id": "f4c6b8f9-169a-4a87-b822-648b07285658",
   "metadata": {},
   "outputs": [],
   "source": [
    "apikey = open('../00_Introduction_and_Setup/.apikey').read().strip()\n",
    "os.environ['OPENAI_API_KEY'] = apikey"
   ]
  },
  {
   "cell_type": "code",
   "execution_count": 3,
   "id": "51582d3f-ed03-4d40-8a60-a1e84cfedf81",
   "metadata": {},
   "outputs": [],
   "source": [
    "scenes = {\n",
    "    '1.scene1': \"Illustrate a split-screen effect: on one side, a teen with a vape in hand, releasing a puff of smoke, looking indifferent or less energetic; on the other side, another teen happily applying a face mask, surrounded by skincare products. The contrast in activities should highlight the choice between vaping and self-care. Style: in black and white pencil illustration befitting simplistic storyboard illustrations, don't include any text and be consistent with the scene and the goal\",\n",
    "    '1.scene2': \"Show a progression timeline with the vaping teen's skin developing issues like blemishes and dullness, while the non-vaping teen's skin becomes clearer and more radiant over time. Use visual elements like calendars or seasonal cues to indicate the passage of time. Style: in black and white pencil illustration befitting simplistic storyboard illustrations, don't include any text and be consistent with the scene and the goal of creating an anti-vaping image.\",\n",
    "    '1.scene3': \"Depict the non-vaping teen experimenting with different fun and natural face masks, laughing, and enjoying the process, possibly with friends. Their facial expressions should convey enjoyment and confidence. Style: in black and white pencil illustration befitting simplistic storyboard illustrations, don't include any text and be consistent with the scene and the goal of creating an anti-vaping image.\",\n",
    "    '1.scene4': \"Final scene shows the non-vaping teen with a radiant smile and flawless skin, holding a phone as if taking a selfie. The joy and pride in their achievement are evident. Style: in black and white pencil illustration befitting simplistic storyboard illustrations, don't include any text and be consistent with the scene and the goal of creating an anti-vaping image.\",\n",
    "    '2.scene1': \"Illustrate two groups of teens in athletic gear, one group holding vapes and looking less prepared, and the other looking energetic and ready. The setting should be an outdoor sports field or track to set the scene for the upcoming challenge. Style: in black and white pencil illustration befitting simplistic storyboard illustrations, don't include any text and be consistent with the scene and the goal of creating an anti-vaping image.\",\n",
    "    '2.scene2': \"Capture the moment of the challenge, with the non-vaping group taking the lead in a race or sports activity, showing determination and stamina, while the vaping group falls behind, struggling to keep up. Style: in black and white pencil illustration befitting simplistic storyboard illustrations, don't include any text and be consistent with the scene and the goal of creating an anti-vaping image.\",\n",
    "    '2.scene3': \"After the challenge, the non-vapers are less fatigued, happily celebrating their win with high fives and joyful expressions, while the vaping group is visibly tired and disappointed. Style: in black and white pencil illustration befitting simplistic storyboard illustrations, don't include any text and be consistent with the scene and the goal of creating an anti-vaping image.\",\n",
    "    '2.scene4': \"A group shot of the victorious non-vapers, holding a trophy or wearing medals, proud and triumphant, with the sports field in the background to emphasize their achievement. Style: in black and white pencil illustration befitting simplistic storyboard illustrations, don't include any text and be consistent with the scene and the goal of creating an anti-vaping image.\",\n",
    "    '3.scene1': \"Show a dull, uninspired setting with some teens vaping, their expressions listless. One teen, looking dissatisfied with vaping, puts it down and picks up a guitar, sparking interest among others who begin to look curious and inspired. Style: in black and white pencil illustration befitting simplistic storyboard illustrations, don't include any text and be consistent with the scene and the goal of creating an anti-vaping image.\",\n",
    "    '3.scene2': \"Transition to a vibrant, creative workshop filled with various art supplies and instruments. Teens are engaging in painting, playing music, and digital art, all looking energized and inspired by their creative pursuits. Style: in black and white pencil illustration befitting simplistic storyboard illustrations, don't include any text and be consistent with the scene and the goal of creating an anti-vaping image.\",\n",
    "    '3.scene3': \"Create a montage of teens showcasing their creative achievements: a finished painting, a band recording a song, and a teen publishing a blog post. Their expressions should convey pride and satisfaction. Style: in black and white pencil illustration befitting simplistic storyboard illustrations, don't include any text and be consistent with the scene and the goal of creating an anti-vaping image.\",\n",
    "    '3.scene4': \"Depict an exhibition or live performance where teens showcase their work. Surround them with an appreciative audience, highlighting the support and admiration for their talents. Style: in black and white pencil illustration befitting simplistic storyboard illustrations, don't include any text and be consistent with the scene and the goal of creating an anti-vaping image.\",\n",
    "    '4.scene1': \"Illustrate teens in a reflective pose, jotting down their dreams and aspirations in journals or creating dream boards. The setting should be cozy and thoughtful, with items symbolizing their dreams scattered around (e.g., books, globes, musical instruments). Style: in black and white pencil illustration befitting simplistic storyboard illustrations, don't include any text and be consistent with the scene and the goal of creating an anti-vaping image.\",\n",
    "    '4.scene2': \"Show the teens actively engaged in pursuits that bring them closer to their dreams: studying, interning in professional settings, practicing a skill, all without the presence of vaping. The environment should reflect progress and determination. Style: in black and white pencil illustration befitting simplistic storyboard illustrations, don't include any text and be consistent with the scene and the goal of creating an anti-vaping image.\",\n",
    "    '4.scene3': \"Highlight key moments of achievement: a teen receiving a college acceptance letter, another presenting a project or invention, and a third performing on stage. These scenes should capture the climax of their hard work and dedication. Style: in black and white pencil illustration befitting simplistic storyboard illustrations, don't include any text and be consistent with the scene and the goal of creating an anti-vaping image.\",\n",
    "    '4.scene4': \"Depict the teens, now slightly older, living their dreams: wearing a graduation gown, traveling to exotic locations, or thriving in their dream job. Each scene should reflect fulfillment and the realization of their aspirations. Style: in black and white pencil illustration befitting simplistic storyboard illustrations, don't include any text and be consistent with the scene and the goal of creating an anti-vaping image.\",\n",
    "    '5.scene1': \"Capture a lively party scene with teens enjoying themselves, dancing, and laughing. One teen steps outside to vape, missing a moment of laughter and connection inside, highlighted by a split-screen effect to show the contrast. Style: in black and white pencil illustration befitting simplistic storyboard illustrations, don't include any text and be consistent with the scene and the goal of creating an anti-vaping image.\",\n",
    "    '5.scene2': \"Illustrate the non-vaping teens enjoying various activities together: playing games, dancing, and laughing, in a vibrant and inclusive social setting. The atmosphere should be warm and inviting, emphasizing connection and joy. Style: in black and white pencil illustration befitting simplistic storyboard illustrations, don't include any text and be consistent with the scene and the goal of creating an anti-vaping image.\",\n",
    "    '5.scene3': \"Show the previously vaping teen deciding to ditch the vape and rejoin the group, immediately being welcomed into a group selfie. This scene emphasizes reconnection and the warmth of friendships without vaping. Style: in black and white pencil illustration befitting simplistic storyboard illustrations, don't include any text and be consistent with the scene and the goal of creating an anti-vaping image.\",\n",
    "    '5.scene4': \"Create a series of snapshots depicting different gatherings, all featuring happy, connected teens enjoying themselves without vaping. These snapshots should convey a sense of community, laughter, and memorable moments shared together. Style: in black and white pencil illustration befitting simplistic storyboard illustrations, don't include any text and be consistent with the scene and the goal of creating an anti-vaping image.\"\n",
    "}"
   ]
  },
  {
   "cell_type": "code",
   "execution_count": 5,
   "id": "8f8a43ed-3a6d-408a-8f54-7967243f0ea9",
   "metadata": {},
   "outputs": [],
   "source": [
    "client = OpenAI()\n",
    "\n",
    "for scene, description in scenes.items():\n",
    "    response = client.images.generate(\n",
    "        model='dall-e-3',\n",
    "        prompt=description, \n",
    "        size='1024x1024',\n",
    "        quality='standard',\n",
    "        n=1,\n",
    "    )\n",
    "\n",
    "    image_url = response.data[0].url\n",
    "    generated_image = requests.get(image_url)\n",
    "    with open(f'generated_img_{scene}.png', 'wb') as out:\n",
    "        out.write(generated_image.content)"
   ]
  }
 ],
 "metadata": {
  "citation-manager": {
   "items": {}
  },
  "kernelspec": {
   "display_name": "Python 3.11 (COMM4190)",
   "language": "python",
   "name": "comm4190"
  },
  "language_info": {
   "codemirror_mode": {
    "name": "ipython",
    "version": 3
   },
   "file_extension": ".py",
   "mimetype": "text/x-python",
   "name": "python",
   "nbconvert_exporter": "python",
   "pygments_lexer": "ipython3",
   "version": "3.11.7"
  }
 },
 "nbformat": 4,
 "nbformat_minor": 5
}
