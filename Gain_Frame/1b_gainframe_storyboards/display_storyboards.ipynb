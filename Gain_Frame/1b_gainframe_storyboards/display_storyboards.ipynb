{
 "cells": [
  {
   "cell_type": "markdown",
   "id": "d951ad7e-0a47-434f-bee0-c2f0323334ae",
   "metadata": {},
   "source": [
    "# Gain frame story boards "
   ]
  },
  {
   "cell_type": "code",
   "execution_count": 3,
   "id": "1a16cc06-02e2-492e-a354-610512b875c2",
   "metadata": {},
   "outputs": [],
   "source": [
    "import os\n",
    "import re\n",
    "import glob\n",
    "from IPython.display import Markdown, HTML, display"
   ]
  },
  {
   "cell_type": "code",
   "execution_count": 12,
   "id": "bfb8cba8-d68a-474c-9c90-b34f08c76782",
   "metadata": {},
   "outputs": [],
   "source": [
    "scenes_text = open('../1a_gainframe_scenes/scenes.txt').read()"
   ]
  },
  {
   "cell_type": "code",
   "execution_count": 19,
   "id": "632469ce-739b-4bfd-b9fd-cd71f01037df",
   "metadata": {},
   "outputs": [],
   "source": [
    "scenes = [stxt for stxt in scenes_text.split('###') if stxt]"
   ]
  },
  {
   "cell_type": "code",
   "execution_count": 21,
   "id": "402a8b68-c6b1-4165-940f-74bcf765ef6e",
   "metadata": {},
   "outputs": [],
   "source": [
    "scene_data = []\n",
    "for scene in scenes:\n",
    "    slist = scene.split('\\n\\n')\n",
    "    sdict = {'title': slist[0].strip(), \n",
    "             'scenes': slist[1:]}\n",
    "    scene_data.append(sdict)"
   ]
  },
  {
   "cell_type": "code",
   "execution_count": 63,
   "id": "f237643d-bb02-40c1-babd-bc97f72364a9",
   "metadata": {},
   "outputs": [],
   "source": [
    "scene_img_template = '''\n",
    "<figure style=\"width:500px\">\n",
    "    <figcaption>{stext}</figcaption>\n",
    "    <img src=\"{src}\" width=\"500px\"/>\n",
    "</figure>\n",
    "'''"
   ]
  },
  {
   "cell_type": "code",
   "execution_count": 64,
   "id": "199d3e1b-8d4b-4015-878a-e62173a1859d",
   "metadata": {
    "scrolled": true
   },
   "outputs": [
    {
     "data": {
      "text/markdown": [
       "---\n",
       "## Idea 1. **The \"Clear Skin Challenge\" Video**"
      ],
      "text/plain": [
       "<IPython.core.display.Markdown object>"
      ]
     },
     "metadata": {},
     "output_type": "display_data"
    },
    {
     "data": {
      "text/html": [
       "\n",
       "<figure style=\"width:500px\">\n",
       "    <figcaption><b>Scene 1:</b> Two teens are introduced; one is shown vaping, the other is applying a face mask as part of a skincare routine. The split-screen emphasizes the difference in choices.</figcaption>\n",
       "    <img src=\"generated_img_1.scene1.png\" width=\"500px\"/>\n",
       "</figure>\n"
      ],
      "text/plain": [
       "<IPython.core.display.HTML object>"
      ]
     },
     "metadata": {},
     "output_type": "display_data"
    },
    {
     "data": {
      "text/html": [
       "\n",
       "<figure style=\"width:500px\">\n",
       "    <figcaption><b>Scene 2:</b> Progression over time is shown; the vaping teen starts to show skin issues, while the non-vaping teen's skin visibly improves, glowing and clear.</figcaption>\n",
       "    <img src=\"generated_img_1.scene2.png\" width=\"500px\"/>\n",
       "</figure>\n"
      ],
      "text/plain": [
       "<IPython.core.display.HTML object>"
      ]
     },
     "metadata": {},
     "output_type": "display_data"
    },
    {
     "data": {
      "text/html": [
       "\n",
       "<figure style=\"width:500px\">\n",
       "    <figcaption><b>Scene 3:</b> The non-vaping teen continues their skincare routine, now adding fun elements like experimenting with different natural masks, showing enjoyment and confidence.</figcaption>\n",
       "    <img src=\"generated_img_1.scene3.png\" width=\"500px\"/>\n",
       "</figure>\n"
      ],
      "text/plain": [
       "<IPython.core.display.HTML object>"
      ]
     },
     "metadata": {},
     "output_type": "display_data"
    },
    {
     "data": {
      "text/html": [
       "\n",
       "<figure style=\"width:500px\">\n",
       "    <figcaption><b>Scene 4:</b> The final reveal shows the non-vaping teen smiling, taking a selfie with flawless skin, while the text overlay says, “Clear skin wins! #NoVapeVibes.”</figcaption>\n",
       "    <img src=\"generated_img_1.scene4.png\" width=\"500px\"/>\n",
       "</figure>\n"
      ],
      "text/plain": [
       "<IPython.core.display.HTML object>"
      ]
     },
     "metadata": {},
     "output_type": "display_data"
    },
    {
     "data": {
      "text/markdown": [
       "---\n",
       "## Idea 2. **\"The Breath of Fresh Air\" Sports Challenge**"
      ],
      "text/plain": [
       "<IPython.core.display.Markdown object>"
      ]
     },
     "metadata": {},
     "output_type": "display_data"
    },
    {
     "data": {
      "text/html": [
       "\n",
       "<figure style=\"width:500px\">\n",
       "    <figcaption><b>Scene 1:</b> Introduction of two groups of teens: athletes who vape and those who don’t, gearing up for a friendly race or sports challenge.</figcaption>\n",
       "    <img src=\"generated_img_2.scene1.png\" width=\"500px\"/>\n",
       "</figure>\n"
      ],
      "text/plain": [
       "<IPython.core.display.HTML object>"
      ]
     },
     "metadata": {},
     "output_type": "display_data"
    },
    {
     "data": {
      "text/html": [
       "\n",
       "<figure style=\"width:500px\">\n",
       "    <figcaption><b>Scene 2:</b> The challenge begins. The non-vaping group shows better endurance and performance, leading in the race or sport, with the vaping group struggling to keep up.</figcaption>\n",
       "    <img src=\"generated_img_2.scene2.png\" width=\"500px\"/>\n",
       "</figure>\n"
      ],
      "text/plain": [
       "<IPython.core.display.HTML object>"
      ]
     },
     "metadata": {},
     "output_type": "display_data"
    },
    {
     "data": {
      "text/html": [
       "\n",
       "<figure style=\"width:500px\">\n",
       "    <figcaption><b>Scene 3:</b> Post-challenge, the non-vapers are less fatigued, high-fiving, and celebrating their win, while the vaping group is shown catching their breath and looking defeated.</figcaption>\n",
       "    <img src=\"generated_img_2.scene3.png\" width=\"500px\"/>\n",
       "</figure>\n"
      ],
      "text/plain": [
       "<IPython.core.display.HTML object>"
      ]
     },
     "metadata": {},
     "output_type": "display_data"
    },
    {
     "data": {
      "text/html": [
       "\n",
       "<figure style=\"width:500px\">\n",
       "    <figcaption><b>Scene 4:</b> A victorious group shot of the non-vapers with a trophy or medals, with a text overlay: “Breathe better, perform better. #ChooseAirNotVape.”</figcaption>\n",
       "    <img src=\"generated_img_2.scene4.png\" width=\"500px\"/>\n",
       "</figure>\n"
      ],
      "text/plain": [
       "<IPython.core.display.HTML object>"
      ]
     },
     "metadata": {},
     "output_type": "display_data"
    },
    {
     "data": {
      "text/markdown": [
       "---\n",
       "## Idea 3. **The Creativity Unleashed Video**"
      ],
      "text/plain": [
       "<IPython.core.display.Markdown object>"
      ]
     },
     "metadata": {},
     "output_type": "display_data"
    },
    {
     "data": {
      "text/html": [
       "\n",
       "<figure style=\"width:500px\">\n",
       "    <figcaption><b>Scene 1:</b> Teens are shown in a dull, uninspired setting, some vaping. One teen puts down the vape and picks up a guitar, sparking interest in others.</figcaption>\n",
       "    <img src=\"generated_img_3.scene1.png\" width=\"500px\"/>\n",
       "</figure>\n"
      ],
      "text/plain": [
       "<IPython.core.display.HTML object>"
      ]
     },
     "metadata": {},
     "output_type": "display_data"
    },
    {
     "data": {
      "text/html": [
       "\n",
       "<figure style=\"width:500px\">\n",
       "    <figcaption><b>Scene 2:</b> Transition to a vibrant, creative workshop space where teens are engaging in various arts - painting, music, digital art - all looking inspired and energized.</figcaption>\n",
       "    <img src=\"generated_img_3.scene2.png\" width=\"500px\"/>\n",
       "</figure>\n"
      ],
      "text/plain": [
       "<IPython.core.display.HTML object>"
      ]
     },
     "metadata": {},
     "output_type": "display_data"
    },
    {
     "data": {
      "text/html": [
       "\n",
       "<figure style=\"width:500px\">\n",
       "    <figcaption><b>Scene 3:</b> A montage of creative achievements: finished paintings, a band recording a song, a teen publishing a blog post, highlighting their creative successes.</figcaption>\n",
       "    <img src=\"generated_img_3.scene3.png\" width=\"500px\"/>\n",
       "</figure>\n"
      ],
      "text/plain": [
       "<IPython.core.display.HTML object>"
      ]
     },
     "metadata": {},
     "output_type": "display_data"
    },
    {
     "data": {
      "text/html": [
       "\n",
       "<figure style=\"width:500px\">\n",
       "    <figcaption><b>Scene 4:</b> The teens showcase their work in an exhibition or a live performance, surrounded by an appreciative audience, with a text overlay: “Unleash your true potential. #CreateNotVape.”</figcaption>\n",
       "    <img src=\"generated_img_3.scene4.png\" width=\"500px\"/>\n",
       "</figure>\n"
      ],
      "text/plain": [
       "<IPython.core.display.HTML object>"
      ]
     },
     "metadata": {},
     "output_type": "display_data"
    },
    {
     "data": {
      "text/markdown": [
       "---\n",
       "## Idea 4. **The \"Future Dreams\" Montage**"
      ],
      "text/plain": [
       "<IPython.core.display.Markdown object>"
      ]
     },
     "metadata": {},
     "output_type": "display_data"
    },
    {
     "data": {
      "text/html": [
       "\n",
       "<figure style=\"width:500px\">\n",
       "    <figcaption><b>Scene 1:</b> Teens looking thoughtful, jotting down dreams in a journal or visualizing them in a dream board, ranging from graduation to traveling the world.</figcaption>\n",
       "    <img src=\"generated_img_4.scene1.png\" width=\"500px\"/>\n",
       "</figure>\n"
      ],
      "text/plain": [
       "<IPython.core.display.HTML object>"
      ]
     },
     "metadata": {},
     "output_type": "display_data"
    },
    {
     "data": {
      "text/html": [
       "\n",
       "<figure style=\"width:500px\">\n",
       "    <figcaption><b>Scene 2:</b> Shows the teens actively working towards their dreams: studying, participating in internships, learning new skills, with no vaping in sight.</figcaption>\n",
       "    <img src=\"generated_img_4.scene2.png\" width=\"500px\"/>\n",
       "</figure>\n"
      ],
      "text/plain": [
       "<IPython.core.display.HTML object>"
      ]
     },
     "metadata": {},
     "output_type": "display_data"
    },
    {
     "data": {
      "text/html": [
       "\n",
       "<figure style=\"width:500px\">\n",
       "    <figcaption><b>Scene 3:</b> Key achievements are highlighted - a teen receives a college acceptance letter, another showcases a project or invention, a third performs on stage.</figcaption>\n",
       "    <img src=\"generated_img_4.scene3.png\" width=\"500px\"/>\n",
       "</figure>\n"
      ],
      "text/plain": [
       "<IPython.core.display.HTML object>"
      ]
     },
     "metadata": {},
     "output_type": "display_data"
    },
    {
     "data": {
      "text/html": [
       "\n",
       "<figure style=\"width:500px\">\n",
       "    <figcaption><b>Scene 4:</b> The teens, now older, are living out their dreams: one in a graduation gown, another traveling, and another working their dream job, with a text overlay: “Dream it, do it. #NoVapeNeeded.”</figcaption>\n",
       "    <img src=\"generated_img_4.scene4.png\" width=\"500px\"/>\n",
       "</figure>\n"
      ],
      "text/plain": [
       "<IPython.core.display.HTML object>"
      ]
     },
     "metadata": {},
     "output_type": "display_data"
    },
    {
     "data": {
      "text/markdown": [
       "---\n",
       "## Idea 5. **The Social Butterfly Effect Video**"
      ],
      "text/plain": [
       "<IPython.core.display.Markdown object>"
      ]
     },
     "metadata": {},
     "output_type": "display_data"
    },
    {
     "data": {
      "text/html": [
       "\n",
       "<figure style=\"width:500px\">\n",
       "    <figcaption><b>Scene 1:</b> A party scene where everyone is having fun. One teen steps out to vape, missing out on a hilarious moment, shown in split-screen.</figcaption>\n",
       "    <img src=\"generated_img_5.scene1.png\" width=\"500px\"/>\n",
       "</figure>\n"
      ],
      "text/plain": [
       "<IPython.core.display.HTML object>"
      ]
     },
     "metadata": {},
     "output_type": "display_data"
    },
    {
     "data": {
      "text/html": [
       "\n",
       "<figure style=\"width:500px\">\n",
       "    <figcaption><b>Scene 2:</b> The non-vaping teens enjoying activities together: playing games, dancing, and laughing, with a focus on the inclusive, vibrant social environment.</figcaption>\n",
       "    <img src=\"generated_img_5.scene2.png\" width=\"500px\"/>\n",
       "</figure>\n"
      ],
      "text/plain": [
       "<IPython.core.display.HTML object>"
      ]
     },
     "metadata": {},
     "output_type": "display_data"
    },
    {
     "data": {
      "text/html": [
       "\n",
       "<figure style=\"width:500px\">\n",
       "    <figcaption><b>Scene 3:</b> The same teen decides to ditch the vape and joins back in, immediately welcomed into a group selfie, highlighting the warmth and connection.</figcaption>\n",
       "    <img src=\"generated_img_5.scene3.png\" width=\"500px\"/>\n",
       "</figure>\n"
      ],
      "text/plain": [
       "<IPython.core.display.HTML object>"
      ]
     },
     "metadata": {},
     "output_type": "display_data"
    },
    {
     "data": {
      "text/html": [
       "\n",
       "<figure style=\"width:500px\">\n",
       "    <figcaption><b>Scene 4:</b> A series of snapshots from different gatherings, all featuring happy, connected teens, with a text overlay: “More laughs, more memories. #SocializeNotVape.”</figcaption>\n",
       "    <img src=\"generated_img_5.scene4.png\" width=\"500px\"/>\n",
       "</figure>\n"
      ],
      "text/plain": [
       "<IPython.core.display.HTML object>"
      ]
     },
     "metadata": {},
     "output_type": "display_data"
    }
   ],
   "source": [
    "for idea_num in range(1,6):\n",
    "    stitle = scene_data[idea_num-1]['title']\n",
    "    idea_imgs = glob.glob('generated_img_{}.scene*.png'.format(idea_num))\n",
    "    display(Markdown(f'---\\n## Idea {stitle}'))\n",
    "    for snum, img in enumerate(idea_imgs):\n",
    "        stext = re.sub('\\*\\*(.*)\\*\\*','<b>\\\\1</b>',scene_data[idea_num-1]['scenes'][snum])\n",
    "        display(HTML(scene_img_template.format(src=img, stext=stext)))"
   ]
  },
  {
   "cell_type": "code",
   "execution_count": 66,
   "id": "16eee00c-71b0-4d02-84f0-006b98aeaf6a",
   "metadata": {},
   "outputs": [],
   "source": [
    "with open('README.md', 'w') as out:\n",
    "    out.write('# Gain Frame campaigns\\n\\n')\n",
    "    for idea_num in range(1,6):\n",
    "        stitle = scene_data[idea_num-1]['title']\n",
    "        idea_imgs = glob.glob('generated_img_{}.scene*.png'.format(idea_num))\n",
    "        out.write((f'\\n---\\n\\n# Idea {stitle}\\n'))\n",
    "        for snum, img in enumerate(idea_imgs):\n",
    "            stext = re.sub('\\*\\*(.*)\\*\\*','<b>\\\\1</b>',scene_data[idea_num-1]['scenes'][snum])\n",
    "            out.write(scene_img_template.format(src=img, stext=stext))"
   ]
  },
  {
   "cell_type": "code",
   "execution_count": null,
   "id": "1c408ae7-6c2b-4d92-9db1-272674867fa9",
   "metadata": {},
   "outputs": [],
   "source": []
  }
 ],
 "metadata": {
  "citation-manager": {
   "items": {}
  },
  "kernelspec": {
   "display_name": "Python 3.11 (COMM4190)",
   "language": "python",
   "name": "comm4190"
  },
  "language_info": {
   "codemirror_mode": {
    "name": "ipython",
    "version": 3
   },
   "file_extension": ".py",
   "mimetype": "text/x-python",
   "name": "python",
   "nbconvert_exporter": "python",
   "pygments_lexer": "ipython3",
   "version": "3.11.7"
  }
 },
 "nbformat": 4,
 "nbformat_minor": 5
}
